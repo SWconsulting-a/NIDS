{
 "cells": [
  {
   "cell_type": "markdown",
   "id": "4f04360d",
   "metadata": {},
   "source": [
    "## Description du projet \n",
    "Un IDS pour le trafic réseau est un système de sécurité informatique conçu pour surveiller, analyser et détecter des activités anormales ou malveillantes dans le trafic réseau. Il sert à protéger les infrastructures informatiques en identifiant les tentatives d'intrusion ou les comportements non autorisés.\n",
    "Le système est essentiel pour améliorer la sécurité des plateformes et applications web, détecter les anomalies et les attaques de la cybersécurité, enregister les logs détaillés utilisés lors des audits et enquêtes de sécurité,fournir une couche supplémentaire en complément des antivirus et firewall,etc.\n",
    "\n",
    "###  Solution proposée \n",
    "\n",
    "- Entraîner un modèle de machine learning robuste qui sera capable de comparer le comportement actuel avec le comportement normal attendu afin de détecter l'attaque et mettre en place des pratiques de blockage.\n",
    "\n",
    "### Etapes de réalisation du projet\n",
    "\n",
    "\n",
    "### 1.Entrainement d'un modèle intelligent de détection des attaques \n",
    "\n",
    "#### 1.1. Choix du dataset \n",
    "\n",
    "- Pour l'entraînement des données, on va utiliser un dataset balancé avec deux classes binaires: benigne et maligne, ceci afin de réduire le sur-apprentissage du modèle et assurer une bonne classification du modèle et une bonne précision.\n",
    "- Pour se faire, on va utiliser le dataset CICIDS-2018 qui contient un jeu de données riches en attaque DDOS.\n",
    "\n",
    "#### 1.2. Prétraitement des données\n",
    "\n",
    "- Numérisation des valeurs catégorielles \n",
    "- Traitement des valeurs nulles, manquantes, aberrantes \n",
    "- Traitement des doublons\n",
    "- Choix des variables importantes pour l'apprentissage\n",
    "- Traitement des varaibles numériques infinies \n",
    "- Standardisation des données\n",
    "\n",
    "#### 1.3. Entraînement des modèles de classification binaire\n",
    "\n",
    "#### 1.4. Test et calcul de la précision,accuracy, recall, roc-curve , f1-score et matrice de confusion\n",
    "\n",
    "#### 1.5. Choix du meilleur modèle de classification et validation des résultats\n",
    "\n",
    "### 2.Visualisation des résultats "
   ]
  },
  {
   "cell_type": "code",
   "execution_count": 4,
   "id": "e3d806d3",
   "metadata": {},
   "outputs": [],
   "source": [
    "#import libraries\n",
    "import pandas as pd\n",
    "import numpy as np\n",
    "import matplotlib.pyplot as plt\n",
    "import seaborn as sns\n",
    "from sklearn.preprocessing import StandardScaler\n",
    "from sklearn.decomposition import PCA\n",
    "from sklearn.model_selection import train_test_split\n",
    "from sklearn.ensemble import RandomForestClassifier\n",
    "from sklearn.metrics import classification_report\n",
    "from sklearn.tree import DecisionTreeClassifier\n",
    "from sklearn.metrics import roc_auc_score, roc_curve, precision_score, recall_score, f1_score, accuracy_score\n",
    "from fastcore.basics import *\n",
    "from fastcore.parallel import *\n"
   ]
  },
  {
   "cell_type": "code",
   "execution_count": 5,
   "id": "3d000015",
   "metadata": {},
   "outputs": [],
   "source": [
    "#import dataset\n",
    "df=pd.read_csv(\"cic-ids_maj_balanced_50_50.csv\")"
   ]
  },
  {
   "cell_type": "code",
   "execution_count": 6,
   "id": "7eb6c266",
   "metadata": {},
   "outputs": [
    {
     "data": {
      "text/plain": [
       "(2829000, 40)"
      ]
     },
     "execution_count": 6,
     "metadata": {},
     "output_type": "execute_result"
    }
   ],
   "source": [
    "#shape of dataset \n",
    "df.shape"
   ]
  },
  {
   "cell_type": "code",
   "execution_count": 7,
   "id": "ed55bdee",
   "metadata": {},
   "outputs": [
    {
     "data": {
      "text/html": [
       "<div>\n",
       "<style scoped>\n",
       "    .dataframe tbody tr th:only-of-type {\n",
       "        vertical-align: middle;\n",
       "    }\n",
       "\n",
       "    .dataframe tbody tr th {\n",
       "        vertical-align: top;\n",
       "    }\n",
       "\n",
       "    .dataframe thead th {\n",
       "        text-align: right;\n",
       "    }\n",
       "</style>\n",
       "<table border=\"1\" class=\"dataframe\">\n",
       "  <thead>\n",
       "    <tr style=\"text-align: right;\">\n",
       "      <th></th>\n",
       "      <th>Dst Port</th>\n",
       "      <th>Protocol</th>\n",
       "      <th>Timestamp</th>\n",
       "      <th>TotLen Fwd Pkts</th>\n",
       "      <th>Bwd Pkt Len Min</th>\n",
       "      <th>Flow Byts/s</th>\n",
       "      <th>Fwd IAT Mean</th>\n",
       "      <th>Fwd IAT Min</th>\n",
       "      <th>Bwd IAT Tot</th>\n",
       "      <th>Bwd IAT Std</th>\n",
       "      <th>...</th>\n",
       "      <th>Init Bwd Win Byts</th>\n",
       "      <th>Fwd Act Data Pkts</th>\n",
       "      <th>Fwd Seg Size Min</th>\n",
       "      <th>Active Std</th>\n",
       "      <th>Active Max</th>\n",
       "      <th>Active Min</th>\n",
       "      <th>Idle Max</th>\n",
       "      <th>Idle Min</th>\n",
       "      <th>Label</th>\n",
       "      <th>class_label</th>\n",
       "    </tr>\n",
       "  </thead>\n",
       "  <tbody>\n",
       "    <tr>\n",
       "      <th>0</th>\n",
       "      <td>53</td>\n",
       "      <td>17</td>\n",
       "      <td>15/02/2018 09:12:06</td>\n",
       "      <td>37</td>\n",
       "      <td>53</td>\n",
       "      <td>60524.546066</td>\n",
       "      <td>0.00</td>\n",
       "      <td>0</td>\n",
       "      <td>0</td>\n",
       "      <td>0.0000</td>\n",
       "      <td>...</td>\n",
       "      <td>-1</td>\n",
       "      <td>0</td>\n",
       "      <td>8</td>\n",
       "      <td>0.0</td>\n",
       "      <td>0</td>\n",
       "      <td>0</td>\n",
       "      <td>0</td>\n",
       "      <td>0</td>\n",
       "      <td>0</td>\n",
       "      <td>0</td>\n",
       "    </tr>\n",
       "    <tr>\n",
       "      <th>1</th>\n",
       "      <td>45352</td>\n",
       "      <td>6</td>\n",
       "      <td>16/02/2018 01:47:52</td>\n",
       "      <td>935</td>\n",
       "      <td>0</td>\n",
       "      <td>353.184298</td>\n",
       "      <td>1146002.25</td>\n",
       "      <td>22</td>\n",
       "      <td>314384</td>\n",
       "      <td>147343.7626</td>\n",
       "      <td>...</td>\n",
       "      <td>211</td>\n",
       "      <td>1</td>\n",
       "      <td>32</td>\n",
       "      <td>0.0</td>\n",
       "      <td>0</td>\n",
       "      <td>0</td>\n",
       "      <td>0</td>\n",
       "      <td>0</td>\n",
       "      <td>0</td>\n",
       "      <td>0</td>\n",
       "    </tr>\n",
       "    <tr>\n",
       "      <th>2</th>\n",
       "      <td>60493</td>\n",
       "      <td>6</td>\n",
       "      <td>14/02/2018 09:20:29</td>\n",
       "      <td>0</td>\n",
       "      <td>0</td>\n",
       "      <td>0.000000</td>\n",
       "      <td>138.00</td>\n",
       "      <td>138</td>\n",
       "      <td>0</td>\n",
       "      <td>0.0000</td>\n",
       "      <td>...</td>\n",
       "      <td>-1</td>\n",
       "      <td>0</td>\n",
       "      <td>20</td>\n",
       "      <td>0.0</td>\n",
       "      <td>0</td>\n",
       "      <td>0</td>\n",
       "      <td>0</td>\n",
       "      <td>0</td>\n",
       "      <td>0</td>\n",
       "      <td>0</td>\n",
       "    </tr>\n",
       "    <tr>\n",
       "      <th>3</th>\n",
       "      <td>53</td>\n",
       "      <td>17</td>\n",
       "      <td>01/03/2018 08:45:43</td>\n",
       "      <td>94</td>\n",
       "      <td>101</td>\n",
       "      <td>3674.416873</td>\n",
       "      <td>17424.00</td>\n",
       "      <td>17424</td>\n",
       "      <td>1</td>\n",
       "      <td>0.0000</td>\n",
       "      <td>...</td>\n",
       "      <td>-1</td>\n",
       "      <td>1</td>\n",
       "      <td>8</td>\n",
       "      <td>0.0</td>\n",
       "      <td>0</td>\n",
       "      <td>0</td>\n",
       "      <td>0</td>\n",
       "      <td>0</td>\n",
       "      <td>0</td>\n",
       "      <td>0</td>\n",
       "    </tr>\n",
       "    <tr>\n",
       "      <th>4</th>\n",
       "      <td>443</td>\n",
       "      <td>6</td>\n",
       "      <td>15/02/2018 09:58:52</td>\n",
       "      <td>46</td>\n",
       "      <td>0</td>\n",
       "      <td>158075.601375</td>\n",
       "      <td>145.50</td>\n",
       "      <td>140</td>\n",
       "      <td>0</td>\n",
       "      <td>0.0000</td>\n",
       "      <td>...</td>\n",
       "      <td>-1</td>\n",
       "      <td>1</td>\n",
       "      <td>20</td>\n",
       "      <td>0.0</td>\n",
       "      <td>0</td>\n",
       "      <td>0</td>\n",
       "      <td>0</td>\n",
       "      <td>0</td>\n",
       "      <td>0</td>\n",
       "      <td>0</td>\n",
       "    </tr>\n",
       "  </tbody>\n",
       "</table>\n",
       "<p>5 rows × 40 columns</p>\n",
       "</div>"
      ],
      "text/plain": [
       "   Dst Port  Protocol            Timestamp  TotLen Fwd Pkts  Bwd Pkt Len Min  \\\n",
       "0        53        17  15/02/2018 09:12:06               37               53   \n",
       "1     45352         6  16/02/2018 01:47:52              935                0   \n",
       "2     60493         6  14/02/2018 09:20:29                0                0   \n",
       "3        53        17  01/03/2018 08:45:43               94              101   \n",
       "4       443         6  15/02/2018 09:58:52               46                0   \n",
       "\n",
       "     Flow Byts/s  Fwd IAT Mean  Fwd IAT Min  Bwd IAT Tot  Bwd IAT Std  ...  \\\n",
       "0   60524.546066          0.00            0            0       0.0000  ...   \n",
       "1     353.184298    1146002.25           22       314384  147343.7626  ...   \n",
       "2       0.000000        138.00          138            0       0.0000  ...   \n",
       "3    3674.416873      17424.00        17424            1       0.0000  ...   \n",
       "4  158075.601375        145.50          140            0       0.0000  ...   \n",
       "\n",
       "   Init Bwd Win Byts  Fwd Act Data Pkts  Fwd Seg Size Min  Active Std  \\\n",
       "0                 -1                  0                 8         0.0   \n",
       "1                211                  1                32         0.0   \n",
       "2                 -1                  0                20         0.0   \n",
       "3                 -1                  1                 8         0.0   \n",
       "4                 -1                  1                20         0.0   \n",
       "\n",
       "   Active Max  Active Min  Idle Max  Idle Min  Label  class_label  \n",
       "0           0           0         0         0      0            0  \n",
       "1           0           0         0         0      0            0  \n",
       "2           0           0         0         0      0            0  \n",
       "3           0           0         0         0      0            0  \n",
       "4           0           0         0         0      0            0  \n",
       "\n",
       "[5 rows x 40 columns]"
      ]
     },
     "execution_count": 7,
     "metadata": {},
     "output_type": "execute_result"
    }
   ],
   "source": [
    "#show first rows \n",
    "df.head()"
   ]
  },
  {
   "cell_type": "code",
   "execution_count": 8,
   "id": "13181b20",
   "metadata": {},
   "outputs": [
    {
     "name": "stdout",
     "output_type": "stream",
     "text": [
      "Dst Port             0\n",
      "Protocol             0\n",
      "Timestamp            0\n",
      "TotLen Fwd Pkts      0\n",
      "Bwd Pkt Len Min      0\n",
      "Flow Byts/s          0\n",
      "Fwd IAT Mean         0\n",
      "Fwd IAT Min          0\n",
      "Bwd IAT Tot          0\n",
      "Bwd IAT Std          0\n",
      "Bwd IAT Max          0\n",
      "Bwd IAT Min          0\n",
      "Fwd PSH Flags        0\n",
      "Fwd URG Flags        0\n",
      "Fwd Header Len       0\n",
      "Fwd Pkts/s           0\n",
      "Bwd Pkts/s           0\n",
      "Pkt Len Min          0\n",
      "Pkt Len Std          0\n",
      "Pkt Len Var          0\n",
      "FIN Flag Cnt         0\n",
      "PSH Flag Cnt         0\n",
      "ACK Flag Cnt         0\n",
      "URG Flag Cnt         0\n",
      "ECE Flag Cnt         0\n",
      "Down/Up Ratio        0\n",
      "Fwd Seg Size Avg     0\n",
      "Bwd Seg Size Avg     0\n",
      "Subflow Bwd Byts     0\n",
      "Init Fwd Win Byts    0\n",
      "Init Bwd Win Byts    0\n",
      "Fwd Act Data Pkts    0\n",
      "Fwd Seg Size Min     0\n",
      "Active Std           0\n",
      "Active Max           0\n",
      "Active Min           0\n",
      "Idle Max             0\n",
      "Idle Min             0\n",
      "Label                0\n",
      "class_label          0\n",
      "dtype: int64\n"
     ]
    }
   ],
   "source": [
    "#check NA values \n",
    "print(df.isna().sum())"
   ]
  },
  {
   "cell_type": "code",
   "execution_count": 9,
   "id": "8ea3995e",
   "metadata": {},
   "outputs": [
    {
     "name": "stdout",
     "output_type": "stream",
     "text": [
      "Dst Port             0\n",
      "Protocol             0\n",
      "Timestamp            0\n",
      "TotLen Fwd Pkts      0\n",
      "Bwd Pkt Len Min      0\n",
      "Flow Byts/s          0\n",
      "Fwd IAT Mean         0\n",
      "Fwd IAT Min          0\n",
      "Bwd IAT Tot          0\n",
      "Bwd IAT Std          0\n",
      "Bwd IAT Max          0\n",
      "Bwd IAT Min          0\n",
      "Fwd PSH Flags        0\n",
      "Fwd URG Flags        0\n",
      "Fwd Header Len       0\n",
      "Fwd Pkts/s           0\n",
      "Bwd Pkts/s           0\n",
      "Pkt Len Min          0\n",
      "Pkt Len Std          0\n",
      "Pkt Len Var          0\n",
      "FIN Flag Cnt         0\n",
      "PSH Flag Cnt         0\n",
      "ACK Flag Cnt         0\n",
      "URG Flag Cnt         0\n",
      "ECE Flag Cnt         0\n",
      "Down/Up Ratio        0\n",
      "Fwd Seg Size Avg     0\n",
      "Bwd Seg Size Avg     0\n",
      "Subflow Bwd Byts     0\n",
      "Init Fwd Win Byts    0\n",
      "Init Bwd Win Byts    0\n",
      "Fwd Act Data Pkts    0\n",
      "Fwd Seg Size Min     0\n",
      "Active Std           0\n",
      "Active Max           0\n",
      "Active Min           0\n",
      "Idle Max             0\n",
      "Idle Min             0\n",
      "Label                0\n",
      "class_label          0\n",
      "dtype: int64\n"
     ]
    }
   ],
   "source": [
    "#check for null values \n",
    "print(df.isnull().sum())"
   ]
  },
  {
   "cell_type": "code",
   "execution_count": 10,
   "id": "551bedfb",
   "metadata": {},
   "outputs": [
    {
     "data": {
      "text/html": [
       "<div>\n",
       "<style scoped>\n",
       "    .dataframe tbody tr th:only-of-type {\n",
       "        vertical-align: middle;\n",
       "    }\n",
       "\n",
       "    .dataframe tbody tr th {\n",
       "        vertical-align: top;\n",
       "    }\n",
       "\n",
       "    .dataframe thead th {\n",
       "        text-align: right;\n",
       "    }\n",
       "</style>\n",
       "<table border=\"1\" class=\"dataframe\">\n",
       "  <thead>\n",
       "    <tr style=\"text-align: right;\">\n",
       "      <th></th>\n",
       "      <th>Dst Port</th>\n",
       "      <th>Protocol</th>\n",
       "      <th>TotLen Fwd Pkts</th>\n",
       "      <th>Bwd Pkt Len Min</th>\n",
       "      <th>Flow Byts/s</th>\n",
       "      <th>Fwd IAT Mean</th>\n",
       "      <th>Fwd IAT Min</th>\n",
       "      <th>Bwd IAT Tot</th>\n",
       "      <th>Bwd IAT Std</th>\n",
       "      <th>Bwd IAT Max</th>\n",
       "      <th>...</th>\n",
       "      <th>Init Bwd Win Byts</th>\n",
       "      <th>Fwd Act Data Pkts</th>\n",
       "      <th>Fwd Seg Size Min</th>\n",
       "      <th>Active Std</th>\n",
       "      <th>Active Max</th>\n",
       "      <th>Active Min</th>\n",
       "      <th>Idle Max</th>\n",
       "      <th>Idle Min</th>\n",
       "      <th>Label</th>\n",
       "      <th>class_label</th>\n",
       "    </tr>\n",
       "  </thead>\n",
       "  <tbody>\n",
       "    <tr>\n",
       "      <th>count</th>\n",
       "      <td>2.829000e+06</td>\n",
       "      <td>2.829000e+06</td>\n",
       "      <td>2.829000e+06</td>\n",
       "      <td>2.829000e+06</td>\n",
       "      <td>2.829000e+06</td>\n",
       "      <td>2.829000e+06</td>\n",
       "      <td>2.829000e+06</td>\n",
       "      <td>2.829000e+06</td>\n",
       "      <td>2.829000e+06</td>\n",
       "      <td>2.829000e+06</td>\n",
       "      <td>...</td>\n",
       "      <td>2.829000e+06</td>\n",
       "      <td>2.829000e+06</td>\n",
       "      <td>2.829000e+06</td>\n",
       "      <td>2.829000e+06</td>\n",
       "      <td>2.829000e+06</td>\n",
       "      <td>2.829000e+06</td>\n",
       "      <td>2.829000e+06</td>\n",
       "      <td>2.829000e+06</td>\n",
       "      <td>2.829000e+06</td>\n",
       "      <td>2829000.0</td>\n",
       "    </tr>\n",
       "    <tr>\n",
       "      <th>mean</th>\n",
       "      <td>7.979645e+03</td>\n",
       "      <td>7.540799e+00</td>\n",
       "      <td>3.764591e+02</td>\n",
       "      <td>1.466409e+01</td>\n",
       "      <td>inf</td>\n",
       "      <td>2.133826e+06</td>\n",
       "      <td>1.322354e+06</td>\n",
       "      <td>4.720208e+06</td>\n",
       "      <td>5.978744e+05</td>\n",
       "      <td>1.742904e+06</td>\n",
       "      <td>...</td>\n",
       "      <td>4.495547e+03</td>\n",
       "      <td>1.707515e+00</td>\n",
       "      <td>2.442094e+01</td>\n",
       "      <td>3.317610e+04</td>\n",
       "      <td>1.148396e+05</td>\n",
       "      <td>5.414501e+04</td>\n",
       "      <td>2.994821e+06</td>\n",
       "      <td>2.431342e+06</td>\n",
       "      <td>2.008396e+00</td>\n",
       "      <td>0.5</td>\n",
       "    </tr>\n",
       "    <tr>\n",
       "      <th>std</th>\n",
       "      <td>1.685300e+04</td>\n",
       "      <td>3.928631e+00</td>\n",
       "      <td>1.720373e+04</td>\n",
       "      <td>4.034781e+01</td>\n",
       "      <td>NaN</td>\n",
       "      <td>1.050446e+07</td>\n",
       "      <td>5.610870e+08</td>\n",
       "      <td>2.053534e+07</td>\n",
       "      <td>3.064912e+06</td>\n",
       "      <td>8.804505e+06</td>\n",
       "      <td>...</td>\n",
       "      <td>1.572779e+04</td>\n",
       "      <td>1.526111e+01</td>\n",
       "      <td>9.981713e+00</td>\n",
       "      <td>7.462283e+05</td>\n",
       "      <td>1.706139e+06</td>\n",
       "      <td>1.114191e+06</td>\n",
       "      <td>5.826458e+08</td>\n",
       "      <td>1.248054e+07</td>\n",
       "      <td>2.607728e+00</td>\n",
       "      <td>0.5</td>\n",
       "    </tr>\n",
       "    <tr>\n",
       "      <th>min</th>\n",
       "      <td>0.000000e+00</td>\n",
       "      <td>0.000000e+00</td>\n",
       "      <td>0.000000e+00</td>\n",
       "      <td>0.000000e+00</td>\n",
       "      <td>0.000000e+00</td>\n",
       "      <td>-9.745552e+08</td>\n",
       "      <td>-9.435640e+11</td>\n",
       "      <td>0.000000e+00</td>\n",
       "      <td>0.000000e+00</td>\n",
       "      <td>0.000000e+00</td>\n",
       "      <td>...</td>\n",
       "      <td>-1.000000e+00</td>\n",
       "      <td>0.000000e+00</td>\n",
       "      <td>0.000000e+00</td>\n",
       "      <td>0.000000e+00</td>\n",
       "      <td>0.000000e+00</td>\n",
       "      <td>0.000000e+00</td>\n",
       "      <td>0.000000e+00</td>\n",
       "      <td>0.000000e+00</td>\n",
       "      <td>0.000000e+00</td>\n",
       "      <td>0.0</td>\n",
       "    </tr>\n",
       "    <tr>\n",
       "      <th>25%</th>\n",
       "      <td>5.300000e+01</td>\n",
       "      <td>6.000000e+00</td>\n",
       "      <td>0.000000e+00</td>\n",
       "      <td>0.000000e+00</td>\n",
       "      <td>0.000000e+00</td>\n",
       "      <td>0.000000e+00</td>\n",
       "      <td>0.000000e+00</td>\n",
       "      <td>0.000000e+00</td>\n",
       "      <td>0.000000e+00</td>\n",
       "      <td>0.000000e+00</td>\n",
       "      <td>...</td>\n",
       "      <td>-1.000000e+00</td>\n",
       "      <td>0.000000e+00</td>\n",
       "      <td>2.000000e+01</td>\n",
       "      <td>0.000000e+00</td>\n",
       "      <td>0.000000e+00</td>\n",
       "      <td>0.000000e+00</td>\n",
       "      <td>0.000000e+00</td>\n",
       "      <td>0.000000e+00</td>\n",
       "      <td>0.000000e+00</td>\n",
       "      <td>0.0</td>\n",
       "    </tr>\n",
       "    <tr>\n",
       "      <th>50%</th>\n",
       "      <td>8.000000e+01</td>\n",
       "      <td>6.000000e+00</td>\n",
       "      <td>3.100000e+01</td>\n",
       "      <td>0.000000e+00</td>\n",
       "      <td>1.608891e+01</td>\n",
       "      <td>8.510000e+02</td>\n",
       "      <td>5.400000e+01</td>\n",
       "      <td>0.000000e+00</td>\n",
       "      <td>0.000000e+00</td>\n",
       "      <td>0.000000e+00</td>\n",
       "      <td>...</td>\n",
       "      <td>0.000000e+00</td>\n",
       "      <td>0.000000e+00</td>\n",
       "      <td>2.000000e+01</td>\n",
       "      <td>0.000000e+00</td>\n",
       "      <td>0.000000e+00</td>\n",
       "      <td>0.000000e+00</td>\n",
       "      <td>0.000000e+00</td>\n",
       "      <td>0.000000e+00</td>\n",
       "      <td>5.000000e-01</td>\n",
       "      <td>0.5</td>\n",
       "    </tr>\n",
       "    <tr>\n",
       "      <th>75%</th>\n",
       "      <td>3.389000e+03</td>\n",
       "      <td>6.000000e+00</td>\n",
       "      <td>3.390000e+02</td>\n",
       "      <td>0.000000e+00</td>\n",
       "      <td>6.449740e+03</td>\n",
       "      <td>1.642028e+05</td>\n",
       "      <td>7.590000e+02</td>\n",
       "      <td>4.966300e+04</td>\n",
       "      <td>9.175006e+03</td>\n",
       "      <td>3.881100e+04</td>\n",
       "      <td>...</td>\n",
       "      <td>2.190000e+02</td>\n",
       "      <td>1.000000e+00</td>\n",
       "      <td>3.200000e+01</td>\n",
       "      <td>0.000000e+00</td>\n",
       "      <td>0.000000e+00</td>\n",
       "      <td>0.000000e+00</td>\n",
       "      <td>0.000000e+00</td>\n",
       "      <td>0.000000e+00</td>\n",
       "      <td>3.000000e+00</td>\n",
       "      <td>1.0</td>\n",
       "    </tr>\n",
       "    <tr>\n",
       "      <th>max</th>\n",
       "      <td>6.553500e+04</td>\n",
       "      <td>1.700000e+01</td>\n",
       "      <td>9.789747e+06</td>\n",
       "      <td>1.232000e+03</td>\n",
       "      <td>inf</td>\n",
       "      <td>1.200000e+08</td>\n",
       "      <td>1.200000e+08</td>\n",
       "      <td>1.200000e+08</td>\n",
       "      <td>8.480000e+07</td>\n",
       "      <td>1.200000e+08</td>\n",
       "      <td>...</td>\n",
       "      <td>6.553500e+04</td>\n",
       "      <td>1.829000e+04</td>\n",
       "      <td>5.600000e+01</td>\n",
       "      <td>7.220000e+07</td>\n",
       "      <td>1.140000e+08</td>\n",
       "      <td>1.140000e+08</td>\n",
       "      <td>9.797810e+11</td>\n",
       "      <td>7.758000e+09</td>\n",
       "      <td>8.000000e+00</td>\n",
       "      <td>1.0</td>\n",
       "    </tr>\n",
       "  </tbody>\n",
       "</table>\n",
       "<p>8 rows × 39 columns</p>\n",
       "</div>"
      ],
      "text/plain": [
       "           Dst Port      Protocol  TotLen Fwd Pkts  Bwd Pkt Len Min  \\\n",
       "count  2.829000e+06  2.829000e+06     2.829000e+06     2.829000e+06   \n",
       "mean   7.979645e+03  7.540799e+00     3.764591e+02     1.466409e+01   \n",
       "std    1.685300e+04  3.928631e+00     1.720373e+04     4.034781e+01   \n",
       "min    0.000000e+00  0.000000e+00     0.000000e+00     0.000000e+00   \n",
       "25%    5.300000e+01  6.000000e+00     0.000000e+00     0.000000e+00   \n",
       "50%    8.000000e+01  6.000000e+00     3.100000e+01     0.000000e+00   \n",
       "75%    3.389000e+03  6.000000e+00     3.390000e+02     0.000000e+00   \n",
       "max    6.553500e+04  1.700000e+01     9.789747e+06     1.232000e+03   \n",
       "\n",
       "        Flow Byts/s  Fwd IAT Mean   Fwd IAT Min   Bwd IAT Tot   Bwd IAT Std  \\\n",
       "count  2.829000e+06  2.829000e+06  2.829000e+06  2.829000e+06  2.829000e+06   \n",
       "mean            inf  2.133826e+06  1.322354e+06  4.720208e+06  5.978744e+05   \n",
       "std             NaN  1.050446e+07  5.610870e+08  2.053534e+07  3.064912e+06   \n",
       "min    0.000000e+00 -9.745552e+08 -9.435640e+11  0.000000e+00  0.000000e+00   \n",
       "25%    0.000000e+00  0.000000e+00  0.000000e+00  0.000000e+00  0.000000e+00   \n",
       "50%    1.608891e+01  8.510000e+02  5.400000e+01  0.000000e+00  0.000000e+00   \n",
       "75%    6.449740e+03  1.642028e+05  7.590000e+02  4.966300e+04  9.175006e+03   \n",
       "max             inf  1.200000e+08  1.200000e+08  1.200000e+08  8.480000e+07   \n",
       "\n",
       "        Bwd IAT Max  ...  Init Bwd Win Byts  Fwd Act Data Pkts  \\\n",
       "count  2.829000e+06  ...       2.829000e+06       2.829000e+06   \n",
       "mean   1.742904e+06  ...       4.495547e+03       1.707515e+00   \n",
       "std    8.804505e+06  ...       1.572779e+04       1.526111e+01   \n",
       "min    0.000000e+00  ...      -1.000000e+00       0.000000e+00   \n",
       "25%    0.000000e+00  ...      -1.000000e+00       0.000000e+00   \n",
       "50%    0.000000e+00  ...       0.000000e+00       0.000000e+00   \n",
       "75%    3.881100e+04  ...       2.190000e+02       1.000000e+00   \n",
       "max    1.200000e+08  ...       6.553500e+04       1.829000e+04   \n",
       "\n",
       "       Fwd Seg Size Min    Active Std    Active Max    Active Min  \\\n",
       "count      2.829000e+06  2.829000e+06  2.829000e+06  2.829000e+06   \n",
       "mean       2.442094e+01  3.317610e+04  1.148396e+05  5.414501e+04   \n",
       "std        9.981713e+00  7.462283e+05  1.706139e+06  1.114191e+06   \n",
       "min        0.000000e+00  0.000000e+00  0.000000e+00  0.000000e+00   \n",
       "25%        2.000000e+01  0.000000e+00  0.000000e+00  0.000000e+00   \n",
       "50%        2.000000e+01  0.000000e+00  0.000000e+00  0.000000e+00   \n",
       "75%        3.200000e+01  0.000000e+00  0.000000e+00  0.000000e+00   \n",
       "max        5.600000e+01  7.220000e+07  1.140000e+08  1.140000e+08   \n",
       "\n",
       "           Idle Max      Idle Min         Label  class_label  \n",
       "count  2.829000e+06  2.829000e+06  2.829000e+06    2829000.0  \n",
       "mean   2.994821e+06  2.431342e+06  2.008396e+00          0.5  \n",
       "std    5.826458e+08  1.248054e+07  2.607728e+00          0.5  \n",
       "min    0.000000e+00  0.000000e+00  0.000000e+00          0.0  \n",
       "25%    0.000000e+00  0.000000e+00  0.000000e+00          0.0  \n",
       "50%    0.000000e+00  0.000000e+00  5.000000e-01          0.5  \n",
       "75%    0.000000e+00  0.000000e+00  3.000000e+00          1.0  \n",
       "max    9.797810e+11  7.758000e+09  8.000000e+00          1.0  \n",
       "\n",
       "[8 rows x 39 columns]"
      ]
     },
     "execution_count": 10,
     "metadata": {},
     "output_type": "execute_result"
    }
   ],
   "source": [
    "#show statistic description of this dataset\n",
    "df.describe()"
   ]
  },
  {
   "cell_type": "code",
   "execution_count": 12,
   "id": "b5ab4a86",
   "metadata": {},
   "outputs": [
    {
     "name": "stdout",
     "output_type": "stream",
     "text": [
      "0    1414500\n",
      "1    1414500\n",
      "Name: class_label, dtype: int64\n"
     ]
    }
   ],
   "source": [
    "#check for binary classes \n",
    "print(df['class_label'].value_counts())"
   ]
  },
  {
   "cell_type": "code",
   "execution_count": 13,
   "id": "a3dd8a67",
   "metadata": {},
   "outputs": [
    {
     "data": {
      "image/png": "[encoded data removed]",
      "text/plain": [
       "<Figure size 432x288 with 1 Axes>"
      ]
     },
     "metadata": {
      "needs_background": "light"
     },
     "output_type": "display_data"
    }
   ],
   "source": [
    "fig , ax = plt.subplots(figsize=(6,4))\n",
    "sns.countplot(x='class_label', data=df)\n",
    "plt.title(\"Label\")\n",
    "plt.show()"
   ]
  },
  {
   "cell_type": "code",
   "execution_count": 14,
   "id": "8f7b7917",
   "metadata": {},
   "outputs": [
    {
     "data": {
      "text/plain": [
       "Index(['Dst Port', 'Protocol', 'Timestamp', 'TotLen Fwd Pkts',\n",
       "       'Bwd Pkt Len Min', 'Flow Byts/s', 'Fwd IAT Mean', 'Fwd IAT Min',\n",
       "       'Bwd IAT Tot', 'Bwd IAT Std', 'Bwd IAT Max', 'Bwd IAT Min',\n",
       "       'Fwd PSH Flags', 'Fwd URG Flags', 'Fwd Header Len', 'Fwd Pkts/s',\n",
       "       'Bwd Pkts/s', 'Pkt Len Min', 'Pkt Len Std', 'Pkt Len Var',\n",
       "       'FIN Flag Cnt', 'PSH Flag Cnt', 'ACK Flag Cnt', 'URG Flag Cnt',\n",
       "       'ECE Flag Cnt', 'Down/Up Ratio', 'Fwd Seg Size Avg', 'Bwd Seg Size Avg',\n",
       "       'Subflow Bwd Byts', 'Init Fwd Win Byts', 'Init Bwd Win Byts',\n",
       "       'Fwd Act Data Pkts', 'Fwd Seg Size Min', 'Active Std', 'Active Max',\n",
       "       'Active Min', 'Idle Max', 'Idle Min', 'Label', 'class_label'],\n",
       "      dtype='object')"
      ]
     },
     "execution_count": 14,
     "metadata": {},
     "output_type": "execute_result"
    }
   ],
   "source": [
    "#list of features\n",
    "df.columns"
   ]
  },
  {
   "cell_type": "code",
   "execution_count": 15,
   "id": "5f35545d",
   "metadata": {},
   "outputs": [
    {
     "name": "stdout",
     "output_type": "stream",
     "text": [
      "isnan Dst Port             False\n",
      "Protocol             False\n",
      "Timestamp            False\n",
      "TotLen Fwd Pkts      False\n",
      "Bwd Pkt Len Min      False\n",
      "Flow Byts/s          False\n",
      "Fwd IAT Mean         False\n",
      "Fwd IAT Min          False\n",
      "Bwd IAT Tot          False\n",
      "Bwd IAT Std          False\n",
      "Bwd IAT Max          False\n",
      "Bwd IAT Min          False\n",
      "Fwd PSH Flags        False\n",
      "Fwd URG Flags        False\n",
      "Fwd Header Len       False\n",
      "Fwd Pkts/s           False\n",
      "Bwd Pkts/s           False\n",
      "Pkt Len Min          False\n",
      "Pkt Len Std          False\n",
      "Pkt Len Var          False\n",
      "FIN Flag Cnt         False\n",
      "PSH Flag Cnt         False\n",
      "ACK Flag Cnt         False\n",
      "URG Flag Cnt         False\n",
      "ECE Flag Cnt         False\n",
      "Down/Up Ratio        False\n",
      "Fwd Seg Size Avg     False\n",
      "Bwd Seg Size Avg     False\n",
      "Subflow Bwd Byts     False\n",
      "Init Fwd Win Byts    False\n",
      "Init Bwd Win Byts    False\n",
      "Fwd Act Data Pkts    False\n",
      "Fwd Seg Size Min     False\n",
      "Active Std           False\n",
      "Active Max           False\n",
      "Active Min           False\n",
      "Idle Max             False\n",
      "Idle Min             False\n",
      "Label                False\n",
      "class_label          False\n",
      "dtype: bool\n",
      "isfinite Dst Port             True\n",
      "Protocol             True\n",
      "Timestamp            True\n",
      "TotLen Fwd Pkts      True\n",
      "Bwd Pkt Len Min      True\n",
      "Flow Byts/s          True\n",
      "Fwd IAT Mean         True\n",
      "Fwd IAT Min          True\n",
      "Bwd IAT Tot          True\n",
      "Bwd IAT Std          True\n",
      "Bwd IAT Max          True\n",
      "Bwd IAT Min          True\n",
      "Fwd PSH Flags        True\n",
      "Fwd URG Flags        True\n",
      "Fwd Header Len       True\n",
      "Fwd Pkts/s           True\n",
      "Bwd Pkts/s           True\n",
      "Pkt Len Min          True\n",
      "Pkt Len Std          True\n",
      "Pkt Len Var          True\n",
      "FIN Flag Cnt         True\n",
      "PSH Flag Cnt         True\n",
      "ACK Flag Cnt         True\n",
      "URG Flag Cnt         True\n",
      "ECE Flag Cnt         True\n",
      "Down/Up Ratio        True\n",
      "Fwd Seg Size Avg     True\n",
      "Bwd Seg Size Avg     True\n",
      "Subflow Bwd Byts     True\n",
      "Init Fwd Win Byts    True\n",
      "Init Bwd Win Byts    True\n",
      "Fwd Act Data Pkts    True\n",
      "Fwd Seg Size Min     True\n",
      "Active Std           True\n",
      "Active Max           True\n",
      "Active Min           True\n",
      "Idle Max             True\n",
      "Idle Min             True\n",
      "Label                True\n",
      "class_label          True\n",
      "dtype: bool\n"
     ]
    }
   ],
   "source": [
    "# check for NAN and infinite float variables\n",
    "print('isnan',np.isnan(df.any()))\n",
    "print('isfinite',np.isfinite(df.all()))"
   ]
  },
  {
   "cell_type": "code",
   "execution_count": 16,
   "id": "6c086c56",
   "metadata": {},
   "outputs": [],
   "source": [
    "#select features for training\n",
    "df_n=df[['Dst Port', 'Protocol', 'TotLen Fwd Pkts',\n",
    "       'Bwd Pkt Len Min', 'Flow Byts/s', 'Fwd IAT Mean', 'Fwd IAT Min',\n",
    "       'Bwd IAT Tot', 'Bwd IAT Std', 'Bwd IAT Max', 'Bwd IAT Min',\n",
    "       'Fwd PSH Flags', 'Fwd URG Flags', 'Fwd Header Len', 'Fwd Pkts/s',\n",
    "       'Bwd Pkts/s', 'Pkt Len Min', 'Pkt Len Std', 'Pkt Len Var',\n",
    "       'FIN Flag Cnt', 'PSH Flag Cnt', 'ACK Flag Cnt', 'URG Flag Cnt',\n",
    "       'ECE Flag Cnt', 'Down/Up Ratio', 'Fwd Seg Size Avg', 'Bwd Seg Size Avg',\n",
    "       'Subflow Bwd Byts', 'Init Fwd Win Byts', 'Init Bwd Win Byts',\n",
    "       'Fwd Act Data Pkts', 'Fwd Seg Size Min', 'Active Std', 'Active Max',\n",
    "       'Active Min', 'Idle Max', 'Idle Min', 'class_label']]"
   ]
  },
  {
   "cell_type": "code",
   "execution_count": 18,
   "id": "a6ae3c81",
   "metadata": {},
   "outputs": [],
   "source": [
    "#deal with infinite float values\n",
    "df_new = df_n[np.isfinite(df_n).all(1)]"
   ]
  },
  {
   "cell_type": "code",
   "execution_count": 19,
   "id": "68bf9d3a",
   "metadata": {},
   "outputs": [
    {
     "data": {
      "text/plain": [
       "Dst Port               int64\n",
       "Protocol               int64\n",
       "TotLen Fwd Pkts        int64\n",
       "Bwd Pkt Len Min        int64\n",
       "Flow Byts/s          float64\n",
       "Fwd IAT Mean         float64\n",
       "Fwd IAT Min            int64\n",
       "Bwd IAT Tot            int64\n",
       "Bwd IAT Std          float64\n",
       "Bwd IAT Max            int64\n",
       "Bwd IAT Min            int64\n",
       "Fwd PSH Flags          int64\n",
       "Fwd URG Flags          int64\n",
       "Fwd Header Len         int64\n",
       "Fwd Pkts/s           float64\n",
       "Bwd Pkts/s           float64\n",
       "Pkt Len Min            int64\n",
       "Pkt Len Std          float64\n",
       "Pkt Len Var          float64\n",
       "FIN Flag Cnt           int64\n",
       "PSH Flag Cnt           int64\n",
       "ACK Flag Cnt           int64\n",
       "URG Flag Cnt           int64\n",
       "ECE Flag Cnt           int64\n",
       "Down/Up Ratio          int64\n",
       "Fwd Seg Size Avg     float64\n",
       "Bwd Seg Size Avg     float64\n",
       "Subflow Bwd Byts       int64\n",
       "Init Fwd Win Byts      int64\n",
       "Init Bwd Win Byts      int64\n",
       "Fwd Act Data Pkts      int64\n",
       "Fwd Seg Size Min       int64\n",
       "Active Std           float64\n",
       "Active Max             int64\n",
       "Active Min             int64\n",
       "Idle Max               int64\n",
       "Idle Min               int64\n",
       "class_label            int64\n",
       "dtype: object"
      ]
     },
     "execution_count": 19,
     "metadata": {},
     "output_type": "execute_result"
    }
   ],
   "source": [
    "#print variable types\n",
    "df_new.dtypes"
   ]
  },
  {
   "cell_type": "markdown",
   "id": "716c1ff5",
   "metadata": {},
   "source": [
    "## 1- Split data into Train/test/validate split datasets + normlization"
   ]
  },
  {
   "cell_type": "code",
   "execution_count": 20,
   "id": "add64a55",
   "metadata": {},
   "outputs": [
    {
     "name": "stdout",
     "output_type": "stream",
     "text": [
      "Index(['Dst Port', 'Protocol', 'TotLen Fwd Pkts', 'Bwd Pkt Len Min',\n",
      "       'Flow Byts/s', 'Fwd IAT Mean', 'Fwd IAT Min', 'Bwd IAT Tot',\n",
      "       'Bwd IAT Std', 'Bwd IAT Max', 'Bwd IAT Min', 'Fwd PSH Flags',\n",
      "       'Fwd URG Flags', 'Fwd Header Len', 'Fwd Pkts/s', 'Bwd Pkts/s',\n",
      "       'Pkt Len Min', 'Pkt Len Std', 'Pkt Len Var', 'FIN Flag Cnt',\n",
      "       'PSH Flag Cnt', 'ACK Flag Cnt', 'URG Flag Cnt', 'ECE Flag Cnt',\n",
      "       'Down/Up Ratio', 'Fwd Seg Size Avg', 'Bwd Seg Size Avg',\n",
      "       'Subflow Bwd Byts', 'Init Fwd Win Byts', 'Init Bwd Win Byts',\n",
      "       'Fwd Act Data Pkts', 'Fwd Seg Size Min', 'Active Std', 'Active Max',\n",
      "       'Active Min', 'Idle Max', 'Idle Min'],\n",
      "      dtype='object')\n",
      "(2825577, 37)\n",
      "(2825577,)\n"
     ]
    }
   ],
   "source": [
    "#split dataset to X=features and Y=target\n",
    "X = df_new[['Dst Port', 'Protocol', 'TotLen Fwd Pkts', 'Bwd Pkt Len Min',\n",
    "       'Flow Byts/s', 'Fwd IAT Mean', 'Fwd IAT Min', 'Bwd IAT Tot',\n",
    "       'Bwd IAT Std', 'Bwd IAT Max', 'Bwd IAT Min', 'Fwd PSH Flags',\n",
    "       'Fwd URG Flags', 'Fwd Header Len', 'Fwd Pkts/s', 'Bwd Pkts/s',\n",
    "       'Pkt Len Min', 'Pkt Len Std', 'Pkt Len Var', 'FIN Flag Cnt',\n",
    "       'PSH Flag Cnt', 'ACK Flag Cnt', 'URG Flag Cnt', 'ECE Flag Cnt',\n",
    "       'Down/Up Ratio', 'Fwd Seg Size Avg', 'Bwd Seg Size Avg',\n",
    "       'Subflow Bwd Byts', 'Init Fwd Win Byts', 'Init Bwd Win Byts',\n",
    "       'Fwd Act Data Pkts', 'Fwd Seg Size Min', 'Active Std', 'Active Max',\n",
    "       'Active Min', 'Idle Max', 'Idle Min']] \n",
    "y = df_new['class_label']  # Target label\n",
    "print(X.columns)\n",
    "print(X.shape)\n",
    "print(y.shape)"
   ]
  },
  {
   "cell_type": "code",
   "execution_count": 21,
   "id": "c16b2945",
   "metadata": {},
   "outputs": [],
   "source": [
    "#Normalize data \n",
    "from sklearn.preprocessing import StandardScaler\n",
    "\n",
    "scaler = StandardScaler()\n",
    "X_scaled = scaler.fit_transform(X)"
   ]
  },
  {
   "cell_type": "code",
   "execution_count": 22,
   "id": "d0c96f95",
   "metadata": {},
   "outputs": [],
   "source": [
    "#Train/test/validate split data\n",
    "from sklearn.ensemble import RandomForestClassifier\n",
    "from sklearn.model_selection import train_test_split\n",
    "from sklearn.metrics import classification_report, confusion_matrix\n",
    "\n",
    "# Split the dataset into training and testing sets\n",
    "X_train, X_test, y_train, y_test = train_test_split(X_scaled, y, test_size=0.2, random_state=42)\n",
    "X_train, X_validate, y_train, y_validate = train_test_split(X_train, y_train, test_size=0.2, random_state=42)"
   ]
  },
  {
   "cell_type": "code",
   "execution_count": 23,
   "id": "b7ffbf64",
   "metadata": {},
   "outputs": [
    {
     "name": "stdout",
     "output_type": "stream",
     "text": [
      "X_train (1808368, 37) \t y_train (1808368,)\n",
      "X_test (565116, 37) \t y_test (565116,)\n",
      "X_validate (452093, 37) \t y_validate (452093,)\n"
     ]
    }
   ],
   "source": [
    "#shapes\n",
    "print(\"X_train\",X_train.shape, \"\\t\", \"y_train\",y_train.shape)\n",
    "print(\"X_test\",X_test.shape, \"\\t\", \"y_test\",y_test.shape)\n",
    "print(\"X_validate\",X_validate.shape, \"\\t\", \"y_validate\",y_validate.shape)\n"
   ]
  },
  {
   "cell_type": "markdown",
   "id": "556c89b1",
   "metadata": {},
   "source": [
    "## 2- Training models of binary classification \n",
    "### 2-1- Random forest"
   ]
  },
  {
   "cell_type": "code",
   "execution_count": 23,
   "id": "32db1992",
   "metadata": {},
   "outputs": [],
   "source": [
    "# Random forest with grid search method\n",
    "from sklearn.model_selection import GridSearchCV \n",
    "\n",
    "model = RandomForestClassifier(\n",
    "    n_estimators=100,#number of tress in the fores \n",
    "    criterion='gini',\n",
    "    max_depth=None,# number of levels in each decision tree \n",
    "    min_samples_split=2, #number of the data points in one node before the node is split \n",
    "    min_samples_leaf=1,\n",
    "    min_weight_fraction_leaf=0.0,\n",
    "    max_features='auto',# max number of features that should be considered before splitting a node and moving to next level\n",
    "    max_leaf_nodes=None,\n",
    "    min_impurity_decrease=0.0,\n",
    "    bootstrap=True, #method for sampling data \n",
    "    oob_score=False,\n",
    "    n_jobs=None,\n",
    "    random_state=None,\n",
    "    verbose=0,\n",
    "    warm_start=False,\n",
    "    ccp_alpha=0.0,\n",
    "    max_samples=None\n",
    ")\n",
    "\n",
    "hyperparameters = {\n",
    "    'n_estimators': [200, 500],\n",
    "    'max_features': ['auto', 'sqrt', 'log2'],\n",
    "    'max_depth' : [4,5,6,7,8],\n",
    "    'criterion' :['gini', 'entropy']\n",
    "}"
   ]
  },
  {
   "cell_type": "code",
   "execution_count": 24,
   "id": "0e2f0d7c",
   "metadata": {},
   "outputs": [],
   "source": [
    "clf = GridSearchCV(\n",
    "    estimator=model,\n",
    "    param_grid=hyperparameters,\n",
    "    cv=5,\n",
    "    verbose=1,\n",
    "    n_jobs=-1  # Use all available CPU cores\n",
    ")"
   ]
  },
  {
   "cell_type": "code",
   "execution_count": null,
   "id": "c7fa1cfe",
   "metadata": {},
   "outputs": [
    {
     "name": "stdout",
     "output_type": "stream",
     "text": [
      "Fitting 5 folds for each of 60 candidates, totalling 300 fits\n"
     ]
    }
   ],
   "source": [
    "clf.fit(X=X_train, y=y_train)"
   ]
  },
  {
   "cell_type": "code",
   "execution_count": null,
   "id": "81bf0652",
   "metadata": {},
   "outputs": [],
   "source": [
    "model_rf= clf.best_estimator_"
   ]
  },
  {
   "cell_type": "code",
   "execution_count": 24,
   "id": "f90e54f8",
   "metadata": {},
   "outputs": [
    {
     "name": "stdout",
     "output_type": "stream",
     "text": [
      "Classification Report:\n",
      "              precision    recall  f1-score   support\n",
      "\n",
      "           0       0.96      0.99      0.97    281910\n",
      "           1       0.99      0.96      0.97    283206\n",
      "\n",
      "    accuracy                           0.97    565116\n",
      "   macro avg       0.97      0.97      0.97    565116\n",
      "weighted avg       0.97      0.97      0.97    565116\n",
      "\n",
      "Confusion Matrix:\n",
      "[[278070   3840]\n",
      " [ 11841 271365]]\n"
     ]
    }
   ],
   "source": [
    "# Initialize the Random Forest model\n",
    "model_rf = RandomForestClassifier(n_estimators=100, random_state=42)\n",
    "\n",
    "# Train the model\n",
    "model_rf.fit(X_train, y_train)\n",
    "\n",
    "# Make predictions\n",
    "y_pred_rf = model_rf.predict(X_test)\n",
    "\n",
    "# Evaluate the model\n",
    "print(\"Classification Report:\")\n",
    "print(classification_report(y_test, y_pred_rf))\n",
    "\n",
    "print(\"Confusion Matrix:\")\n",
    "print(confusion_matrix(y_test, y_pred_rf))"
   ]
  },
  {
   "cell_type": "code",
   "execution_count": 32,
   "id": "27a7ff43",
   "metadata": {},
   "outputs": [
    {
     "name": "stdout",
     "output_type": "stream",
     "text": [
      "Accuracy= 0.972\n",
      "Precision= 0.986\n",
      "Recall= 0.958\n"
     ]
    }
   ],
   "source": [
    "#compute accuracy, precision and recall\n",
    "from sklearn.metrics import accuracy_score, confusion_matrix, precision_score, recall_score, ConfusionMatrixDisplay\n",
    "accuracy = accuracy_score(y_test, y_pred_rf)\n",
    "precision = precision_score(y_test, y_pred_rf)\n",
    "recall = recall_score(y_test, y_pred_rf)\n",
    "\n",
    "print(\"Accuracy= {acc:.3f}\".format(acc=accuracy))\n",
    "print(\"Precision= {prec:.3f}\".format(prec=precision))\n",
    "print(\"Recall= {rec:.3f}\".format(rec=recall))"
   ]
  },
  {
   "cell_type": "code",
   "execution_count": 28,
   "id": "375883c2",
   "metadata": {},
   "outputs": [
    {
     "data": {
      "text/plain": [
       "<sklearn.metrics._plot.confusion_matrix.ConfusionMatrixDisplay at 0x23ab3edb310>"
      ]
     },
     "execution_count": 28,
     "metadata": {},
     "output_type": "execute_result"
    },
    {
     "data": {
      "image/png": "[encoded data removed]",
      "text/plain": [
       "<Figure size 432x288 with 2 Axes>"
      ]
     },
     "metadata": {
      "needs_background": "light"
     },
     "output_type": "display_data"
    }
   ],
   "source": [
    "#confusion matrix of random forest model\n",
    "cm = confusion_matrix(y_test, y_pred_rf)\n",
    "\n",
    "ConfusionMatrixDisplay(confusion_matrix=cm).plot(values_format='d')"
   ]
  },
  {
   "cell_type": "code",
   "execution_count": 33,
   "id": "02392303",
   "metadata": {},
   "outputs": [
    {
     "data": {
      "image/png": "[encoded data removed]",
      "text/plain": [
       "<Figure size 576x576 with 1 Axes>"
      ]
     },
     "metadata": {
      "needs_background": "light"
     },
     "output_type": "display_data"
    }
   ],
   "source": [
    "from sklearn.metrics import roc_curve, auc\n",
    "\n",
    "# Compute ROC curve\n",
    "fpr, tpr, thresholds = roc_curve(y_test, model_rf.predict_proba(X_test)[:,1])\n",
    "\n",
    "# Compute AUC (Area Under the Curve)\n",
    "roc_auc = auc(fpr, tpr)\n",
    "\n",
    "# Plot the ROC curve\n",
    "plt.figure(figsize=(8, 8))\n",
    "plt.plot(fpr, tpr, color='darkorange', lw=2, label=f'ROC curve (AUC = {roc_auc:.2f})')\n",
    "plt.plot([0, 1], [0, 1], color='navy', lw=2, linestyle='--')\n",
    "plt.xlabel('False Positive Rate')\n",
    "plt.ylabel('True Positive Rate')\n",
    "plt.title('Receiver Operating Characteristic (ROC) Curve')\n",
    "plt.legend(loc='lower right')\n",
    "plt.show()"
   ]
  },
  {
   "cell_type": "markdown",
   "id": "6101af58",
   "metadata": {},
   "source": [
    "### 2-2- Logistic regression "
   ]
  },
  {
   "cell_type": "code",
   "execution_count": 35,
   "id": "866224b0",
   "metadata": {},
   "outputs": [
    {
     "name": "stderr",
     "output_type": "stream",
     "text": [
      "C:\\Users\\soukaina\\anaconda3\\lib\\site-packages\\sklearn\\linear_model\\_logistic.py:814: ConvergenceWarning: lbfgs failed to converge (status=1):\n",
      "STOP: TOTAL NO. of ITERATIONS REACHED LIMIT.\n",
      "\n",
      "Increase the number of iterations (max_iter) or scale the data as shown in:\n",
      "    https://scikit-learn.org/stable/modules/preprocessing.html\n",
      "Please also refer to the documentation for alternative solver options:\n",
      "    https://scikit-learn.org/stable/modules/linear_model.html#logistic-regression\n",
      "  n_iter_i = _check_optimize_result(\n"
     ]
    }
   ],
   "source": [
    "from sklearn.linear_model import LogisticRegression\n",
    "log_reg = LogisticRegression()\n",
    "log_reg.fit(X_train, y_train)\n",
    "y_pred_lg = log_reg.predict(X_test)"
   ]
  },
  {
   "cell_type": "code",
   "execution_count": 36,
   "id": "a12ac39f",
   "metadata": {},
   "outputs": [
    {
     "name": "stdout",
     "output_type": "stream",
     "text": [
      "Classification Report:\n",
      "              precision    recall  f1-score   support\n",
      "\n",
      "           0       0.95      0.92      0.93    281910\n",
      "           1       0.92      0.95      0.94    283206\n",
      "\n",
      "    accuracy                           0.93    565116\n",
      "   macro avg       0.93      0.93      0.93    565116\n",
      "weighted avg       0.93      0.93      0.93    565116\n",
      "\n"
     ]
    }
   ],
   "source": [
    "# Evaluate the model\n",
    "print(\"Classification Report:\")\n",
    "print(classification_report(y_test, y_pred_lg))"
   ]
  },
  {
   "cell_type": "code",
   "execution_count": 37,
   "id": "dec8e0e9",
   "metadata": {},
   "outputs": [
    {
     "data": {
      "image/png": "[encoded data removed]",
      "text/plain": [
       "<Figure size 432x432 with 2 Axes>"
      ]
     },
     "metadata": {
      "needs_background": "light"
     },
     "output_type": "display_data"
    }
   ],
   "source": [
    "# Compute the confusion matrix\n",
    "cm_lg = confusion_matrix(y_test, y_pred_lg)\n",
    "\n",
    "# Plot the confusion matrix as a heatmap\n",
    "plt.figure(figsize=(6, 6))\n",
    "sns.heatmap(cm_lg, annot=True, fmt='d', cmap='Reds', xticklabels=['Normal', 'Attack'], yticklabels=['Normal', 'Attack'])\n",
    "plt.xlabel('Predicted')\n",
    "plt.ylabel('True')\n",
    "plt.title('Confusion Matrix logistic regression')\n",
    "plt.show()"
   ]
  },
  {
   "cell_type": "code",
   "execution_count": 40,
   "id": "5e7bdfb4",
   "metadata": {},
   "outputs": [
    {
     "name": "stdout",
     "output_type": "stream",
     "text": [
      "Accuracy: 0.934\n",
      "Precision:0.920\n",
      "Recall:0.952\n"
     ]
    }
   ],
   "source": [
    "accuracy_lg = accuracy_score(y_test, y_pred_lg)\n",
    "precision_lg = precision_score(y_test, y_pred_lg)\n",
    "recall_lg = recall_score(y_test, y_pred_lg)\n",
    "\n",
    "print(\"Accuracy: {acc:.3f}\".format(acc=accuracy_lg))\n",
    "print(\"Precision:{pr:.3f}\".format(pr=precision_lg))\n",
    "print(\"Recall:{rec:.3f}\".format(rec=recall_lg))"
   ]
  },
  {
   "cell_type": "markdown",
   "id": "b92e2688",
   "metadata": {},
   "source": [
    "### 2-3- Xgboost model"
   ]
  },
  {
   "cell_type": "code",
   "execution_count": 56,
   "id": "2c6dbc2b",
   "metadata": {},
   "outputs": [],
   "source": [
    "#choose hyperparameter for learning rate \n",
    "import xgboost as xgb\n",
    "learning_rate_range = np.arange(0.01, 1, 0.05)\n",
    "test_XG = [] \n",
    "train_XG = []\n",
    "for lr in learning_rate_range:\n",
    "    xgb_classifier = xgb.XGBClassifier(eta = lr)\n",
    "    xgb_classifier.fit(X_train, y_train)\n",
    "    train_XG.append(xgb_classifier.score(X_train, y_train))\n",
    "    test_XG.append(xgb_classifier.score(X_test, y_test))"
   ]
  },
  {
   "cell_type": "code",
   "execution_count": 57,
   "id": "b1a9d0e1",
   "metadata": {},
   "outputs": [
    {
     "data": {
      "image/png": "[encoded data removed]",
      "text/plain": [
       "<Figure size 720x504 with 1 Axes>"
      ]
     },
     "metadata": {
      "needs_background": "light"
     },
     "output_type": "display_data"
    }
   ],
   "source": [
    "fig = plt.figure(figsize=(10, 7))\n",
    "plt.plot(learning_rate_range, train_XG, c='green', label='Train')\n",
    "plt.plot(learning_rate_range, test_XG, c='orange', label='Test')\n",
    "plt.xlabel('Learning rate')\n",
    "plt.xticks(learning_rate_range)\n",
    "plt.ylabel('Accuracy score')\n",
    "plt.ylim(0.6, 1)\n",
    "plt.legend(prop={'size': 12}, loc=3)\n",
    "plt.title('Accuracy score vs. Learning rate of XGBoost', size=14)\n",
    "plt.show()"
   ]
  },
  {
   "cell_type": "code",
   "execution_count": 41,
   "id": "79ad1717",
   "metadata": {},
   "outputs": [
    {
     "data": {
      "text/plain": [
       "XGBClassifier(base_score=None, booster=None, callbacks=None,\n",
       "              colsample_bylevel=None, colsample_bynode=None,\n",
       "              colsample_bytree=None, device=None, early_stopping_rounds=None,\n",
       "              enable_categorical=False, eta=0.15, eval_metric=None,\n",
       "              feature_types=None, gamma=None, grow_policy=None,\n",
       "              importance_type=None, interaction_constraints=None,\n",
       "              learning_rate=None, max_bin=None, max_cat_threshold=None,\n",
       "              max_cat_to_onehot=None, max_delta_step=None, max_depth=None,\n",
       "              max_leaves=None, min_child_weight=None, missing=nan,\n",
       "              monotone_constraints=None, multi_strategy=None, n_estimators=None,\n",
       "              n_jobs=None, num_parallel_tree=None, ...)"
      ]
     },
     "execution_count": 41,
     "metadata": {},
     "output_type": "execute_result"
    }
   ],
   "source": [
    "import xgboost as xgb\n",
    "#train data with hyperparameter learning_rate=0.15\n",
    "xgb_classifier_ = xgb.XGBClassifier(eta = 0.15)\n",
    "xgb_classifier_.fit(X_train, y_train)"
   ]
  },
  {
   "cell_type": "code",
   "execution_count": 42,
   "id": "70adb218",
   "metadata": {},
   "outputs": [],
   "source": [
    "y_pred_xgb=xgb_classifier_.predict(X_test)"
   ]
  },
  {
   "cell_type": "code",
   "execution_count": 43,
   "id": "4940e74a",
   "metadata": {},
   "outputs": [
    {
     "name": "stdout",
     "output_type": "stream",
     "text": [
      "Classification Report:\n",
      "              precision    recall  f1-score   support\n",
      "\n",
      "           0       0.96      1.00      0.98    281910\n",
      "           1       1.00      0.96      0.98    283206\n",
      "\n",
      "    accuracy                           0.98    565116\n",
      "   macro avg       0.98      0.98      0.98    565116\n",
      "weighted avg       0.98      0.98      0.98    565116\n",
      "\n"
     ]
    }
   ],
   "source": [
    "# Evaluate the model\n",
    "print(\"Classification Report:\")\n",
    "print(classification_report(y_test, y_pred_xgb))"
   ]
  },
  {
   "cell_type": "code",
   "execution_count": 44,
   "id": "761a0dd8",
   "metadata": {},
   "outputs": [
    {
     "name": "stdout",
     "output_type": "stream",
     "text": [
      "Accuracy: 0.976\n",
      "Precision: 0.995\n",
      "Recall: 0.956\n"
     ]
    }
   ],
   "source": [
    "#compute accuracy, precision and recall\n",
    "accuracy_xgb = accuracy_score(y_test, y_pred_xgb)\n",
    "precision_xgb = precision_score(y_test, y_pred_xgb)\n",
    "recall_xgb = recall_score(y_test, y_pred_xgb)\n",
    "\n",
    "print(\"Accuracy: {acc:.3f}\".format(acc=accuracy_xgb))\n",
    "print(\"Precision: {pr:.3f}\".format(pr=precision_xgb))\n",
    "print(\"Recall: {rec:.3f}\".format(rec=recall_xgb))"
   ]
  },
  {
   "cell_type": "code",
   "execution_count": 45,
   "id": "55aa1227",
   "metadata": {},
   "outputs": [
    {
     "data": {
      "image/png": "[encoded data removed]",
      "text/plain": [
       "<Figure size 432x432 with 2 Axes>"
      ]
     },
     "metadata": {
      "needs_background": "light"
     },
     "output_type": "display_data"
    }
   ],
   "source": [
    "# Compute the confusion matrix\n",
    "cm_xgb = confusion_matrix(y_test, y_pred_xgb)\n",
    "\n",
    "# Plot the confusion matrix as a heatmap\n",
    "plt.figure(figsize=(6, 6))\n",
    "sns.heatmap(cm_xgb, annot=True, fmt='d', cmap='Reds', xticklabels=['Normal', 'Attack'], yticklabels=['Normal', 'Attack'])\n",
    "plt.xlabel('Predicted')\n",
    "plt.ylabel('True')\n",
    "plt.title('Confusion Matrix XGB')\n",
    "plt.show()"
   ]
  },
  {
   "cell_type": "markdown",
   "id": "c0c6e417",
   "metadata": {},
   "source": [
    "### 2-4- SVM model"
   ]
  },
  {
   "cell_type": "code",
   "execution_count": null,
   "id": "0ea378cb",
   "metadata": {},
   "outputs": [
    {
     "name": "stdout",
     "output_type": "stream",
     "text": [
      "Fitting 5 folds for each of 90 candidates, totalling 450 fits\n"
     ]
    }
   ],
   "source": [
    "#Hyper parameter tuning to choose best values for training SVM model \n",
    "from sklearn.model_selection import GridSearchCV \n",
    "from sklearn.svm import SVC\n",
    "\n",
    "# defining parameter range \n",
    "param_grid = {'C': [0.1, 1, 10, 100, 1000], #error tolerate ratio, small one=high mistake toleration, big value=no mistakes allowed, risk of over-fitting\n",
    "              'gamma': [1, 0.1, 0.01, 0.001, 10, 100], #decides how closely the model fits the training data, zoom on data in each class, the bigger it is, the more it is zoomed in dataset\n",
    "              'kernel': ['linear', 'rbf', 'poly'] }#filter that helps drawing boundaries between classes, best is polynomial but depends on dataset \n",
    "\n",
    "grid = GridSearchCV(SVC(), param_grid, refit = True, verbose = 3) \n",
    "\n",
    "# fitting the model for grid search \n",
    "grid.fit(X_train, y_train) \n"
   ]
  },
  {
   "cell_type": "code",
   "execution_count": null,
   "id": "eecaea0f",
   "metadata": {},
   "outputs": [],
   "source": [
    "# print best parameter after tuning \n",
    "print(grid.best_params_) \n",
    "  \n",
    "# print how our model looks after hyper-parameter tuning \n",
    "print(grid.best_estimator_) "
   ]
  },
  {
   "cell_type": "code",
   "execution_count": null,
   "id": "9029b58d",
   "metadata": {},
   "outputs": [],
   "source": [
    "#train model on dataset with best etimators\n",
    "from sklearn.svm import SVC\n",
    "\n",
    "svm_model = SVC(kernel='rbf', gamma='scale', C=1, cache_size=7000)\n",
    "svm_model.fit(X_train,y_train)\n"
   ]
  },
  {
   "cell_type": "code",
   "execution_count": null,
   "id": "d9e12cfa",
   "metadata": {},
   "outputs": [],
   "source": [
    "Y_pred_svm=svm_model.predict(X_test)"
   ]
  },
  {
   "cell_type": "code",
   "execution_count": null,
   "id": "3f293161",
   "metadata": {},
   "outputs": [],
   "source": [
    "print(\"Train score is:\", svm_model.score(X_train, y_train))\n",
    "print(\"Test score is:\", svm_model.score(X_test,y_test))"
   ]
  },
  {
   "cell_type": "code",
   "execution_count": null,
   "id": "1cb7246d",
   "metadata": {},
   "outputs": [],
   "source": [
    "accuracy_svm = accuracy_score(y_test, Y_pred_svm)\n",
    "precision_svm = precision_score(y_test, Y_pred_svm)\n",
    "recall_svm = recall_score(y_test, Y_pred_svm)\n",
    "\n",
    "print(\"Accuracy:\", accuracy_svm)\n",
    "print(\"Precision:\", precision_svm)\n",
    "print(\"Recall:\", recall_svm)"
   ]
  },
  {
   "cell_type": "code",
   "execution_count": null,
   "id": "f657c5b1",
   "metadata": {},
   "outputs": [],
   "source": [
    "# Compute the confusion matrix\n",
    "cm_svm = confusion_matrix(y_test, Y_pred_svm)\n",
    "\n",
    "# Plot the confusion matrix as a heatmap\n",
    "plt.figure(figsize=(6, 6))\n",
    "sns.heatmap(cm_svm, annot=True, fmt='d', cmap='Reds', xticklabels=['Normal', 'Attack'], yticklabels=['Normal', 'Attack'])\n",
    "plt.xlabel('Predicted')\n",
    "plt.ylabel('True')\n",
    "plt.title('Confusion Matrix SVM')\n",
    "plt.show()"
   ]
  },
  {
   "cell_type": "code",
   "execution_count": null,
   "id": "4f5b8fcc",
   "metadata": {},
   "outputs": [],
   "source": [
    "# Evaluate the model\n",
    "print(\"Classification Report:\")\n",
    "print(classification_report(y_test, Y_pred_svm))"
   ]
  },
  {
   "cell_type": "markdown",
   "id": "6e4f416f",
   "metadata": {},
   "source": [
    "### 2-5- Gradient boosting model"
   ]
  },
  {
   "cell_type": "code",
   "execution_count": 46,
   "id": "e4da32cf",
   "metadata": {},
   "outputs": [
    {
     "data": {
      "text/plain": [
       "GradientBoostingClassifier(random_state=0)"
      ]
     },
     "execution_count": 46,
     "metadata": {},
     "output_type": "execute_result"
    }
   ],
   "source": [
    "#import gradient boosting classifier model\n",
    "from sklearn.ensemble import GradientBoostingClassifier as gbx\n",
    "\n",
    "gb_classifier = gbx(random_state = 0)\n",
    "gb_classifier.fit(X_train, y_train)"
   ]
  },
  {
   "cell_type": "code",
   "execution_count": 48,
   "id": "fb32ac20",
   "metadata": {},
   "outputs": [],
   "source": [
    "#make predictions\n",
    "y_pred_gb=gb_classifier.predict(X_test)"
   ]
  },
  {
   "cell_type": "code",
   "execution_count": 49,
   "id": "b3792f5e",
   "metadata": {},
   "outputs": [
    {
     "data": {
      "image/png": "[encoded data removed]",
      "text/plain": [
       "<Figure size 432x432 with 2 Axes>"
      ]
     },
     "metadata": {
      "needs_background": "light"
     },
     "output_type": "display_data"
    }
   ],
   "source": [
    "# Compute the confusion matrix\n",
    "cm_gbx = confusion_matrix(y_test, y_pred_gb)\n",
    "\n",
    "# Plot the confusion matrix as a heatmap\n",
    "plt.figure(figsize=(6, 6))\n",
    "sns.heatmap(cm_gbx, annot=True, fmt='d', cmap='Reds', xticklabels=['Normal', 'Attack'], yticklabels=['Normal', 'Attack'])\n",
    "plt.xlabel('Predicted')\n",
    "plt.ylabel('True')\n",
    "plt.title('Confusion Matrix GBX')\n",
    "plt.show()"
   ]
  },
  {
   "cell_type": "code",
   "execution_count": 50,
   "id": "d0a2770c",
   "metadata": {},
   "outputs": [
    {
     "name": "stdout",
     "output_type": "stream",
     "text": [
      "Classification Report:\n",
      "              precision    recall  f1-score   support\n",
      "\n",
      "           0       0.95      1.00      0.97    281910\n",
      "           1       1.00      0.95      0.97    283206\n",
      "\n",
      "    accuracy                           0.97    565116\n",
      "   macro avg       0.97      0.97      0.97    565116\n",
      "weighted avg       0.98      0.97      0.97    565116\n",
      "\n"
     ]
    }
   ],
   "source": [
    "# Evaluate the model\n",
    "print(\"Classification Report:\")\n",
    "print(classification_report(y_test, y_pred_gb))"
   ]
  },
  {
   "cell_type": "code",
   "execution_count": 51,
   "id": "b4ed4646",
   "metadata": {},
   "outputs": [
    {
     "name": "stdout",
     "output_type": "stream",
     "text": [
      "Accuracy: 0.974\n",
      "Precision: 0.995\n",
      "Recall: 0.953\n"
     ]
    }
   ],
   "source": [
    "accuracy_gbx = accuracy_score(y_test, y_pred_gb)\n",
    "precision_gbx = precision_score(y_test, y_pred_gb)\n",
    "recall_gbx = recall_score(y_test, y_pred_gb)\n",
    "\n",
    "print(\"Accuracy: {acc:.3f}\".format(acc=accuracy_gbx))\n",
    "print(\"Precision: {pr:.3f}\".format(pr=precision_gbx))\n",
    "print(\"Recall: {rec:.3f}\".format(rec=recall_gbx))"
   ]
  },
  {
   "cell_type": "markdown",
   "id": "40fbb197",
   "metadata": {},
   "source": [
    "###  2-6- ANN"
   ]
  },
  {
   "cell_type": "code",
   "execution_count": 34,
   "id": "25dada95",
   "metadata": {},
   "outputs": [],
   "source": [
    "#convert data labeles to tf tensors \n",
    "import tensorflow as tf\n",
    "X_train = tf.constant(X_train)\n",
    "y_train = tf.constant(y_train)\n",
    "X_test = tf.constant(X_test)\n",
    "y_test = tf.constant(y_test)"
   ]
  },
  {
   "cell_type": "code",
   "execution_count": null,
   "id": "70fe57cf",
   "metadata": {},
   "outputs": [],
   "source": [
    "# Create the model\n",
    "dl_model = tf.keras.Sequential([\n",
    "                  tf.keras.layers.Dense(128, activation=\"relu\"),\n",
    "                  tf.keras.layers.Dense(256, activation=\"relu\"),\n",
    "                  tf.keras.layers.Dense(128, activation=\"relu\"),\n",
    "                  tf.keras.layers.Dense(1, activation=\"sigmoid\")\n",
    " ])# Compile the model\n",
    "dl_model.compile(loss=\"binary_crossentropy\",\n",
    "              optimizer=\"Adam\",\n",
    "              metrics=[\"accuracy\"])# Fit the model\n",
    "history = dl_model.fit(X_train,\n",
    "                    y_train,\n",
    "                    epochs=50,\n",
    "                    batch_size=32,\n",
    "                    validation_data=(X_test, y_test),\n",
    "                    verbose=0)\n",
    "\n"
   ]
  },
  {
   "cell_type": "code",
   "execution_count": null,
   "id": "155090bd",
   "metadata": {},
   "outputs": [],
   "source": [
    "score=dl_model.evaluate(X_test, y_test)"
   ]
  },
  {
   "cell_type": "code",
   "execution_count": null,
   "id": "1cb557c9",
   "metadata": {},
   "outputs": [],
   "source": [
    "print('Test loss:', score[0])\n",
    "print('Test accuracy:', score[1])"
   ]
  },
  {
   "cell_type": "code",
   "execution_count": null,
   "id": "0d843067",
   "metadata": {},
   "outputs": [],
   "source": [
    "loss=score[0]\n",
    "acc_ann=score[1]"
   ]
  },
  {
   "cell_type": "code",
   "execution_count": null,
   "id": "a7a240e4",
   "metadata": {},
   "outputs": [],
   "source": [
    "dl_model.summary()"
   ]
  },
  {
   "cell_type": "markdown",
   "id": "26aad434",
   "metadata": {},
   "source": [
    "## VOLET2"
   ]
  },
  {
   "cell_type": "markdown",
   "id": "237db4b8",
   "metadata": {},
   "source": [
    "## <font color='red'> Second investigation comments </font> \n",
    "\n",
    "<ul>\n",
    "    <li>Better dataset of new data of 2018</li>\n",
    "    <li>More features 39 with correlated data, better learning , no duplicates, no null values</li>\n",
    "    <li>Classes are balanced, with same number of rows in the classes</li>\n",
    "    <li>Acc is meaningful, precision and recall are also meaningful </li>\n",
    "    <li>For the first training of this second round, the best models that predict well on the dataset are Xgboost and random forest </li>\n",
    "    <li>Accuracy shows how often a classification ML model is correct overall.</li>\n",
    "<li>Precision shows how often an ML model is correct when predicting the target class.</li>\n",
    "<li>Recall shows whether an ML model can find all objects of the target class. </li>\n",
    "\n",
    "</ul>\n",
    "\n",
    "\n",
    "## <font color='green'> Next steps </font> \n",
    "\n",
    "<ul>\n",
    "    <li>Finetuning of trained models </li>\n",
    "\n",
    "    \n",
    "\n",
    "</ul>"
   ]
  },
  {
   "cell_type": "markdown",
   "id": "e3dde287",
   "metadata": {},
   "source": [
    "## 3-Compare classifiers accuracy and choose best model"
   ]
  },
  {
   "cell_type": "code",
   "execution_count": 54,
   "id": "e9f05e03",
   "metadata": {},
   "outputs": [
    {
     "data": {
      "image/png": "[encoded data removed]",
      "text/plain": [
       "<Figure size 1080x216 with 1 Axes>"
      ]
     },
     "metadata": {
      "needs_background": "light"
     },
     "output_type": "display_data"
    }
   ],
   "source": [
    "#compare classifiers accuracy\n",
    "names = ['RF','LG','XGB','SVM','GB', 'ANN']\n",
    "values = [0.972, 0.934,0.976,0.935,0.974, 0.95]\n",
    "f = plt.figure(figsize=(15,3),num=5)\n",
    "# Customize the plot\n",
    "plt.title('Classifier Accuracy Comparison', fontsize=16)\n",
    "plt.xlabel('Classifiers', fontsize=12)\n",
    "plt.ylabel('Accuracy ', fontsize=12)\n",
    "plt.bar(names,values, color='Blue')\n",
    "plt.ylim(0.80,0.99)  # Set y-axis limits from 80% to 102%\n",
    "\n",
    "plt.show()"
   ]
  },
  {
   "cell_type": "markdown",
   "id": "742a4abe",
   "metadata": {},
   "source": [
    "### The best model that predicts well on this dataset is Xgboost \n",
    "### In the following we will make predictions on validation set "
   ]
  },
  {
   "cell_type": "code",
   "execution_count": 56,
   "id": "64d0d8ba",
   "metadata": {},
   "outputs": [
    {
     "data": {
      "text/plain": [
       "['ids_network_traffic_model.pkl']"
      ]
     },
     "execution_count": 56,
     "metadata": {},
     "output_type": "execute_result"
    }
   ],
   "source": [
    "import joblib\n",
    "\n",
    "# Save the choosen model\n",
    "joblib.dump(xgb_classifier_, 'ids_network_traffic_model.pkl')\n"
   ]
  },
  {
   "cell_type": "code",
   "execution_count": 57,
   "id": "2268601b",
   "metadata": {},
   "outputs": [],
   "source": [
    "# Load the model when needed\n",
    "loaded_model = joblib.load('ids_network_traffic_model.pkl')\n"
   ]
  },
  {
   "cell_type": "code",
   "execution_count": 58,
   "id": "c6faef94",
   "metadata": {},
   "outputs": [
    {
     "name": "stdout",
     "output_type": "stream",
     "text": [
      "(452093, 37)\n"
     ]
    }
   ],
   "source": [
    "print(X_validate.shape)"
   ]
  },
  {
   "cell_type": "code",
   "execution_count": 59,
   "id": "81488eee",
   "metadata": {},
   "outputs": [],
   "source": [
    "# Make predictions with the loaded modelon validation set\n",
    "predictions = loaded_model.predict(X_validate)"
   ]
  },
  {
   "cell_type": "code",
   "execution_count": 60,
   "id": "25b5ebc7",
   "metadata": {},
   "outputs": [
    {
     "data": {
      "image/png": "[encoded data removed]",
      "text/plain": [
       "<Figure size 432x432 with 2 Axes>"
      ]
     },
     "metadata": {
      "needs_background": "light"
     },
     "output_type": "display_data"
    }
   ],
   "source": [
    "#confusion matrix and acc of final model on validation set \n",
    "cm_final_model = confusion_matrix(y_validate, predictions)\n",
    "\n",
    "# Plot the confusion matrix as a heatmap\n",
    "plt.figure(figsize=(6, 6))\n",
    "sns.heatmap(cm_final_model, annot=True, fmt='d', cmap='Greens', xticklabels=['Normal', 'Attack'], yticklabels=['Normal', 'Attack'])\n",
    "plt.xlabel('Predicted')\n",
    "plt.ylabel('True')\n",
    "plt.title('Confusion Matrix of validation set of choosen model')\n",
    "plt.show()"
   ]
  },
  {
   "cell_type": "code",
   "execution_count": 61,
   "id": "1d0fad30",
   "metadata": {},
   "outputs": [],
   "source": [
    "acc_final=accuracy_score(y_validate,predictions)\n",
    "prec_final=precision_score(y_validate,predictions)\n",
    "recall_final=recall_score(y_validate,predictions)"
   ]
  },
  {
   "cell_type": "code",
   "execution_count": 63,
   "id": "a9cf73c8",
   "metadata": {},
   "outputs": [
    {
     "name": "stdout",
     "output_type": "stream",
     "text": [
      "The final scores of the choosen model on the validation set are:\n",
      "accuracy=0.976 \n",
      "precision=0.996 \n",
      "and recall=0.957\n"
     ]
    }
   ],
   "source": [
    "print(\"The final scores of the choosen model on the validation set are:\\naccuracy={acc:0.3f} \\nprecision={prec:0.3f} \\nand recall={recc:0.3f}\".format(acc=acc_final, prec=prec_final, recc=recall_final))"
   ]
  },
  {
   "cell_type": "code",
   "execution_count": 64,
   "id": "feb69a40",
   "metadata": {},
   "outputs": [
    {
     "name": "stdout",
     "output_type": "stream",
     "text": [
      "The recap of results is shown below: \n",
      "               precision    recall  f1-score   support\n",
      "\n",
      "           0       0.96      1.00      0.98    225850\n",
      "           1       1.00      0.96      0.98    226243\n",
      "\n",
      "    accuracy                           0.98    452093\n",
      "   macro avg       0.98      0.98      0.98    452093\n",
      "weighted avg       0.98      0.98      0.98    452093\n",
      "\n"
     ]
    }
   ],
   "source": [
    "print(\"The recap of results is shown below: \\n {confusion}\".format(confusion=classification_report(y_validate,predictions)))"
   ]
  }
 ],
 "metadata": {
  "kernelspec": {
   "display_name": "Python 3 (ipykernel)",
   "language": "python",
   "name": "python3"
  },
  "language_info": {
   "codemirror_mode": {
    "name": "ipython",
    "version": 3
   },
   "file_extension": ".py",
   "mimetype": "text/x-python",
   "name": "python",
   "nbconvert_exporter": "python",
   "pygments_lexer": "ipython3",
   "version": "3.9.12"
  }
 },
 "nbformat": 4,
 "nbformat_minor": 5
}
